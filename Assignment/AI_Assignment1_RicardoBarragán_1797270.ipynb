{
  "nbformat": 4,
  "nbformat_minor": 0,
  "metadata": {
    "colab": {
      "provenance": []
    },
    "kernelspec": {
      "name": "python3",
      "display_name": "Python 3"
    },
    "language_info": {
      "name": "python"
    }
  },
  "cells": [
    {
      "cell_type": "markdown",
      "source": [
        "A2: Python Exercises.\n",
        "Ricardo Azael Barragán Lona\n",
        "1797270"
      ],
      "metadata": {
        "id": "BDR8rbB-e0CX"
      }
    },
    {
      "cell_type": "code",
      "source": [
        "print(\"HI! What's your name?\")\n",
        "name = input()\n",
        "if name == \"Ana\" or name == \"John\" or name == \"Peter\":\n",
        "  print(\"ok\") \n",
        "else:\n",
        "  print(f\"Nice to meet you, {name}\")"
      ],
      "metadata": {
        "colab": {
          "base_uri": "https://localhost:8080/"
        },
        "id": "u4DQ9izkfG9K",
        "outputId": "d454de34-7e64-48df-ae9d-1bcb77d20bff"
      },
      "execution_count": 1,
      "outputs": [
        {
          "output_type": "stream",
          "name": "stdout",
          "text": [
            "HI! What's your name?\n",
            "Ricardo\n",
            "Nice to meet you, Ricardo\n"
          ]
        }
      ]
    },
    {
      "cell_type": "code",
      "source": [
        "List1 = [\"Messi\",\"Cristiano\",\"Neymar\",\"Mbappe\",\"Xavi\"]\n",
        "print(List1[4])\n",
        "List2 = list(reversed(List1))\n",
        "print(List2)"
      ],
      "metadata": {
        "id": "YRQpiuG2sO5a",
        "colab": {
          "base_uri": "https://localhost:8080/"
        },
        "outputId": "7862ff28-ea34-4fa3-c78b-ee3ad2356c2e"
      },
      "execution_count": 2,
      "outputs": [
        {
          "output_type": "stream",
          "name": "stdout",
          "text": [
            "Xavi\n",
            "['Xavi', 'Mbappe', 'Neymar', 'Cristiano', 'Messi']\n"
          ]
        }
      ]
    },
    {
      "cell_type": "code",
      "source": [
        "print(\"List of strings: \")\n",
        "List3 = []\n",
        "for x in range (6):\n",
        "  value = input(f\"Word {x}:\")\n",
        "  List3.append(value)\n",
        "\n",
        "print(\"**********\")\n",
        "for i in List3:\n",
        "  print(\"*{:<8}*\".format(f\" {i}\"))\n",
        "print(\"**********\")"
      ],
      "metadata": {
        "colab": {
          "base_uri": "https://localhost:8080/"
        },
        "id": "og0lkfYsk8iY",
        "outputId": "e9986bca-9001-4d94-c6a4-fccd69da4c9c"
      },
      "execution_count": 3,
      "outputs": [
        {
          "output_type": "stream",
          "name": "stdout",
          "text": [
            "List of strings: \n",
            "Word 0:Hi\n",
            "Word 1:my\n",
            "Word 2:name\n",
            "Word 3:is\n",
            "Word 4:John\n",
            "Word 5:Doe\n",
            "**********\n",
            "* Hi     *\n",
            "* my     *\n",
            "* name   *\n",
            "* is     *\n",
            "* John   *\n",
            "* Doe    *\n",
            "**********\n"
          ]
        }
      ]
    }
  ]
}